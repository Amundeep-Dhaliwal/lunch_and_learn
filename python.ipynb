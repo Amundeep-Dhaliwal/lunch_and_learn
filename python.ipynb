{
 "cells": [
  {
   "cell_type": "markdown",
   "metadata": {},
   "source": [
    "### Numpy"
   ]
  },
  {
   "cell_type": "code",
   "execution_count": 206,
   "metadata": {},
   "outputs": [
    {
     "name": "stdout",
     "output_type": "stream",
     "text": [
      "Name: numpy\n",
      "Version: 1.23.4\n",
      "Summary: NumPy is the fundamental package for array computing with Python.\n",
      "Home-page: https://www.numpy.org\n",
      "Author: Travis E. Oliphant et al.\n",
      "Author-email: \n",
      "License: BSD\n",
      "Location: /Users/amun/Documents/computer/syntax_testing/python/ipython_venv_3.10.4/lib/python3.10/site-packages\n",
      "Requires: \n",
      "Required-by: Backtesting, bokeh, contourpy, matplotlib, pandas\n"
     ]
    }
   ],
   "source": [
    "!{sys.executable} -m pip show numpy"
   ]
  },
  {
   "cell_type": "code",
   "execution_count": 2,
   "metadata": {},
   "outputs": [],
   "source": [
    "import numpy as np"
   ]
  },
  {
   "cell_type": "code",
   "execution_count": 56,
   "metadata": {},
   "outputs": [
    {
     "name": "stdout",
     "output_type": "stream",
     "text": [
      "<class 'list'>\n",
      "<class 'numpy.ndarray'>\n"
     ]
    },
    {
     "data": {
      "text/plain": [
       "[1, 2, 3, 4, 5]"
      ]
     },
     "execution_count": 56,
     "metadata": {},
     "output_type": "execute_result"
    }
   ],
   "source": [
    "my_list = [ 1, 2, 3, 4, 5 ]\n",
    "print(type(my_list))\n",
    "array = np.array(my_list)\n",
    "print(type(array))\n",
    "array.tolist()\n"
   ]
  },
  {
   "cell_type": "code",
   "execution_count": 60,
   "metadata": {},
   "outputs": [
    {
     "data": {
      "text/plain": [
       "5"
      ]
     },
     "execution_count": 60,
     "metadata": {},
     "output_type": "execute_result"
    }
   ],
   "source": [
    "np.arange(5)\n",
    "len(np.arange(5))\n"
   ]
  },
  {
   "cell_type": "code",
   "execution_count": 157,
   "metadata": {},
   "outputs": [
    {
     "data": {
      "text/plain": [
       "array([[6., 6., 6.],\n",
       "       [6., 6., 6.],\n",
       "       [6., 6., 6.]])"
      ]
     },
     "execution_count": 157,
     "metadata": {},
     "output_type": "execute_result"
    }
   ],
   "source": [
    "np.zeros((3,3))\n",
    "np.ones((3,3)) * np.random.randint(10)"
   ]
  },
  {
   "cell_type": "code",
   "execution_count": 156,
   "metadata": {},
   "outputs": [
    {
     "data": {
      "text/plain": [
       "array([[0.64720858, 0.27356659],\n",
       "       [0.48225618, 0.58054085]])"
      ]
     },
     "execution_count": 156,
     "metadata": {},
     "output_type": "execute_result"
    }
   ],
   "source": [
    "np.random.rand(2,2) # uniform distribution"
   ]
  },
  {
   "cell_type": "code",
   "execution_count": 54,
   "metadata": {},
   "outputs": [
    {
     "data": {
      "text/plain": [
       "array([[3, 5, 2],\n",
       "       [7, 2, 9],\n",
       "       [6, 6, 8]])"
      ]
     },
     "execution_count": 54,
     "metadata": {},
     "output_type": "execute_result"
    }
   ],
   "source": [
    "np.random.randint(10, size = (3, 3))"
   ]
  },
  {
   "cell_type": "code",
   "execution_count": 63,
   "metadata": {},
   "outputs": [
    {
     "data": {
      "text/plain": [
       "array([5, 0, 3, 3, 7, 9])"
      ]
     },
     "execution_count": 63,
     "metadata": {},
     "output_type": "execute_result"
    }
   ],
   "source": [
    "np.random.seed(0)\n",
    "np.random.randint(10, size =6)"
   ]
  },
  {
   "cell_type": "code",
   "execution_count": 40,
   "metadata": {},
   "outputs": [
    {
     "name": "stdout",
     "output_type": "stream",
     "text": [
      "[0 2 4 6 8]\n"
     ]
    },
    {
     "data": {
      "text/plain": [
       "array([[1, 2, 2],\n",
       "       [4, 5, 5],\n",
       "       [6, 7, 8]])"
      ]
     },
     "execution_count": 40,
     "metadata": {},
     "output_type": "execute_result"
    }
   ],
   "source": [
    "a = np.arange(9).reshape(3,3)\n",
    "print(a[a % 2 == 0])\n",
    "top_corner = a[:2,:2]\n",
    "top_corner += 1\n",
    "a"
   ]
  },
  {
   "cell_type": "code",
   "execution_count": 114,
   "metadata": {},
   "outputs": [
    {
     "name": "stdout",
     "output_type": "stream",
     "text": [
      "            a  b  c  d  e\n",
      "2000-01-01  6  3  7  4  6\n",
      "2000-01-02  9  2  6  7  4\n",
      "2000-01-03  3  7  7  2  5\n",
      "2000-01-04  4  1  7  5  1\n",
      "2000-01-05  4  0  9  5  8\n"
     ]
    },
    {
     "data": {
      "text/html": [
       "<div>\n",
       "<style scoped>\n",
       "    .dataframe tbody tr th:only-of-type {\n",
       "        vertical-align: middle;\n",
       "    }\n",
       "\n",
       "    .dataframe tbody tr th {\n",
       "        vertical-align: top;\n",
       "    }\n",
       "\n",
       "    .dataframe thead th {\n",
       "        text-align: right;\n",
       "    }\n",
       "</style>\n",
       "<table border=\"1\" class=\"dataframe\">\n",
       "  <thead>\n",
       "    <tr style=\"text-align: right;\">\n",
       "      <th></th>\n",
       "      <th>count</th>\n",
       "      <th>mean</th>\n",
       "      <th>std</th>\n",
       "      <th>min</th>\n",
       "      <th>25%</th>\n",
       "      <th>50%</th>\n",
       "      <th>75%</th>\n",
       "      <th>max</th>\n",
       "    </tr>\n",
       "  </thead>\n",
       "  <tbody>\n",
       "    <tr>\n",
       "      <th>a</th>\n",
       "      <td>5.0</td>\n",
       "      <td>5.2</td>\n",
       "      <td>2.387467</td>\n",
       "      <td>3.0</td>\n",
       "      <td>4.0</td>\n",
       "      <td>4.0</td>\n",
       "      <td>6.0</td>\n",
       "      <td>9.0</td>\n",
       "    </tr>\n",
       "    <tr>\n",
       "      <th>b</th>\n",
       "      <td>5.0</td>\n",
       "      <td>2.6</td>\n",
       "      <td>2.701851</td>\n",
       "      <td>0.0</td>\n",
       "      <td>1.0</td>\n",
       "      <td>2.0</td>\n",
       "      <td>3.0</td>\n",
       "      <td>7.0</td>\n",
       "    </tr>\n",
       "    <tr>\n",
       "      <th>c</th>\n",
       "      <td>5.0</td>\n",
       "      <td>7.2</td>\n",
       "      <td>1.095445</td>\n",
       "      <td>6.0</td>\n",
       "      <td>7.0</td>\n",
       "      <td>7.0</td>\n",
       "      <td>7.0</td>\n",
       "      <td>9.0</td>\n",
       "    </tr>\n",
       "    <tr>\n",
       "      <th>d</th>\n",
       "      <td>5.0</td>\n",
       "      <td>4.6</td>\n",
       "      <td>1.816590</td>\n",
       "      <td>2.0</td>\n",
       "      <td>4.0</td>\n",
       "      <td>5.0</td>\n",
       "      <td>5.0</td>\n",
       "      <td>7.0</td>\n",
       "    </tr>\n",
       "    <tr>\n",
       "      <th>e</th>\n",
       "      <td>5.0</td>\n",
       "      <td>4.8</td>\n",
       "      <td>2.588436</td>\n",
       "      <td>1.0</td>\n",
       "      <td>4.0</td>\n",
       "      <td>5.0</td>\n",
       "      <td>6.0</td>\n",
       "      <td>8.0</td>\n",
       "    </tr>\n",
       "  </tbody>\n",
       "</table>\n",
       "</div>"
      ],
      "text/plain": [
       "   count  mean       std  min  25%  50%  75%  max\n",
       "a    5.0   5.2  2.387467  3.0  4.0  4.0  6.0  9.0\n",
       "b    5.0   2.6  2.701851  0.0  1.0  2.0  3.0  7.0\n",
       "c    5.0   7.2  1.095445  6.0  7.0  7.0  7.0  9.0\n",
       "d    5.0   4.6  1.816590  2.0  4.0  5.0  5.0  7.0\n",
       "e    5.0   4.8  2.588436  1.0  4.0  5.0  6.0  8.0"
      ]
     },
     "execution_count": 114,
     "metadata": {},
     "output_type": "execute_result"
    }
   ],
   "source": [
    "import pandas as pd\n",
    "np.random.seed(42)\n",
    "dr = pd.date_range('20000101', periods = 5) # create datetime index\n",
    "df = pd.DataFrame(np.random.randint(10, size=(5,5)), index = dr, columns = list('abcde'))\n",
    "print(df)\n",
    "df.sort_index(axis =1, ascending = False)\n",
    "df.describe().T"
   ]
  },
  {
   "cell_type": "code",
   "execution_count": 204,
   "metadata": {},
   "outputs": [
    {
     "data": {
      "text/plain": [
       "array([[  1,   2,   3,   4,   5,   6,   7,   8,   9,  10,  11],\n",
       "       [  2,   4,   6,   8,  10,  12,  14,  16,  18,  20,  22],\n",
       "       [  3,   6,   9,  12,  15,  18,  21,  24,  27,  30,  33],\n",
       "       [  4,   8,  12,  16,  20,  24,  28,  32,  36,  40,  44],\n",
       "       [  5,  10,  15,  20,  25,  30,  35,  40,  45,  50,  55],\n",
       "       [  6,  12,  18,  24,  30,  36,  42,  48,  54,  60,  66],\n",
       "       [  7,  14,  21,  28,  35,  42,  49,  56,  63,  70,  77],\n",
       "       [  8,  16,  24,  32,  40,  48,  56,  64,  72,  80,  88],\n",
       "       [  9,  18,  27,  36,  45,  54,  63,  72,  81,  90,  99],\n",
       "       [ 10,  20,  30,  40,  50,  60,  70,  80,  90, 100, 110],\n",
       "       [ 11,  22,  33,  44,  55,  66,  77,  88,  99, 110, 121],\n",
       "       [ 12,  24,  36,  48,  60,  72,  84,  96, 108, 120, 132]])"
      ]
     },
     "execution_count": 204,
     "metadata": {},
     "output_type": "execute_result"
    }
   ],
   "source": [
    "# values = [np.linspace(1 * i,10 * i,10, dtype = np.int32) for i in range(1,11)]\n",
    "# column_headers = [f'x {n}' for n in range(1,11)]\n",
    "# indexes = [f'Row {n}' for n in range(1,11)]\n",
    "# df = pd.DataFrame(data = values, index = indexes, columns = column_headers)\n",
    "# df.describe().T\n",
    "df = pd.read_csv('times_tables.csv', index_col = 0)\n",
    "df.head()\n",
    "df.tail()\n",
    "series_1_locate = df.loc['Row 1']\n",
    "series_7 = df.iloc[6]\n",
    "df.describe().T\n",
    "series_7['x 6']\n",
    "# df.info()\n",
    "df.sample(3)\n",
    "df.columns # returns a base index object for columns\n",
    "df.index # returns a base index object for the rows\n",
    "df.loc['Row 11'] = [x * 11 for x in range(1,11)]\n",
    "df.loc['Row 12'] = [x * 12 for x in range(1,11)]\n",
    "df.loc[:, 'x 11'] = [x * 11 for x in range(1,13)]\n",
    "df.to_numpy()\n",
    "# df"
   ]
  }
 ],
 "metadata": {
  "kernelspec": {
   "display_name": "ipython_venv_3.10.4",
   "language": "python",
   "name": "ipython_venv_3.10.4"
  },
  "language_info": {
   "codemirror_mode": {
    "name": "ipython",
    "version": 3
   },
   "file_extension": ".py",
   "mimetype": "text/x-python",
   "name": "python",
   "nbconvert_exporter": "python",
   "pygments_lexer": "ipython3",
   "version": "3.10.4"
  },
  "orig_nbformat": 4,
  "vscode": {
   "interpreter": {
    "hash": "aee8b7b246df8f9039afb4144a1f6fd8d2ca17a180786b69acc140d282b71a49"
   }
  }
 },
 "nbformat": 4,
 "nbformat_minor": 2
}
